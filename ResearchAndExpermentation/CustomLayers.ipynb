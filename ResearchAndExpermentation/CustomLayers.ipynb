{
  "nbformat": 4,
  "nbformat_minor": 0,
  "metadata": {
    "colab": {
      "name": "CustomLayers.ipynb",
      "version": "0.3.2",
      "provenance": [],
      "collapsed_sections": [],
      "include_colab_link": true
    },
    "kernelspec": {
      "name": "python3",
      "display_name": "Python 3"
    }
  },
  "cells": [
    {
      "cell_type": "markdown",
      "metadata": {
        "id": "view-in-github",
        "colab_type": "text"
      },
      "source": [
        "<a href=\"https://colab.research.google.com/github/sxqqslf/TensorflowDaily/blob/master/ResearchAndExpermentation/CustomLayers.ipynb\" target=\"_parent\"><img src=\"https://colab.research.google.com/assets/colab-badge.svg\" alt=\"Open In Colab\"/></a>"
      ]
    },
    {
      "metadata": {
        "id": "6vKSybuSq0jJ",
        "colab_type": "code",
        "colab": {}
      },
      "cell_type": "code",
      "source": [
        "import tensorflow as tf\n",
        "\n",
        "tfe = tf.contrib.eager\n",
        "tf.enable_eager_execution()"
      ],
      "execution_count": 0,
      "outputs": []
    },
    {
      "metadata": {
        "id": "7IHwSOEArBGE",
        "colab_type": "code",
        "colab": {
          "base_uri": "https://localhost:8080/",
          "height": 238
        },
        "outputId": "0f991634-09e8-4364-b3e5-ffed9a714658"
      },
      "cell_type": "code",
      "source": [
        "layer = tf.keras.layers.Dense(100)\n",
        "layer = tf.keras.layers.Dense(10, input_shape=(None, 5))\n",
        "layer(tf.zeros([10, 5]))\n",
        "layer.variables\n",
        "layer.kernel, layer.bias"
      ],
      "execution_count": 4,
      "outputs": [
        {
          "output_type": "execute_result",
          "data": {
            "text/plain": [
              "(<tf.Variable 'dense_5/kernel:0' shape=(5, 10) dtype=float32, numpy=\n",
              " array([[-0.15205216,  0.09112263,  0.52300006,  0.57130677,  0.55442315,\n",
              "          0.3381219 ,  0.04872102,  0.5728175 ,  0.6290496 ,  0.49454767],\n",
              "        [-0.62898046,  0.00632226,  0.12202716,  0.56466943,  0.60190684,\n",
              "         -0.30704758,  0.5227408 , -0.3215292 , -0.43332398, -0.28741935],\n",
              "        [ 0.1736862 ,  0.0834446 ,  0.26997757,  0.6036008 ,  0.60789376,\n",
              "          0.01749516,  0.3018785 ,  0.2737841 ,  0.24975419, -0.01216388],\n",
              "        [-0.41952133, -0.5256582 ,  0.05941784,  0.4067685 , -0.06498981,\n",
              "         -0.51020265, -0.3550736 ,  0.09461278, -0.22372615,  0.34045446],\n",
              "        [-0.6129025 , -0.61579514,  0.19223958,  0.3420335 ,  0.03792858,\n",
              "          0.5325301 ,  0.1551227 ,  0.26894665, -0.2094107 ,  0.3458073 ]],\n",
              "       dtype=float32)>,\n",
              " <tf.Variable 'dense_5/bias:0' shape=(10,) dtype=float32, numpy=array([0., 0., 0., 0., 0., 0., 0., 0., 0., 0.], dtype=float32)>)"
            ]
          },
          "metadata": {
            "tags": []
          },
          "execution_count": 4
        }
      ]
    },
    {
      "metadata": {
        "id": "pQif7DQqs_zU",
        "colab_type": "code",
        "colab": {
          "base_uri": "https://localhost:8080/",
          "height": 408
        },
        "outputId": "48025696-8867-4f57-cc9b-c264264f5d54"
      },
      "cell_type": "code",
      "source": [
        "class MyDenseLayer(tf.keras.layers.Layer):\n",
        "  def __init__(self, num_outputs):\n",
        "    super(MyDenseLayer, self).__init__()\n",
        "    self.num_outputs = num_outputs\n",
        "    \n",
        "  def build(self, input_shape):\n",
        "    self.kernel = self.add_variable(\"kernel\", \n",
        "                                    shape=[input_shape[-1].value,\n",
        "                                          self.num_outputs])\n",
        "    \n",
        "  def call(self, input):\n",
        "    return tf.matmul(input, self.kernel)\n",
        "  \n",
        "layer = MyDenseLayer(10)\n",
        "print(layer(tf.zeros([10, 5])))\n",
        "print(layer.variables)"
      ],
      "execution_count": 5,
      "outputs": [
        {
          "output_type": "stream",
          "text": [
            "tf.Tensor(\n",
            "[[0. 0. 0. 0. 0. 0. 0. 0. 0. 0.]\n",
            " [0. 0. 0. 0. 0. 0. 0. 0. 0. 0.]\n",
            " [0. 0. 0. 0. 0. 0. 0. 0. 0. 0.]\n",
            " [0. 0. 0. 0. 0. 0. 0. 0. 0. 0.]\n",
            " [0. 0. 0. 0. 0. 0. 0. 0. 0. 0.]\n",
            " [0. 0. 0. 0. 0. 0. 0. 0. 0. 0.]\n",
            " [0. 0. 0. 0. 0. 0. 0. 0. 0. 0.]\n",
            " [0. 0. 0. 0. 0. 0. 0. 0. 0. 0.]\n",
            " [0. 0. 0. 0. 0. 0. 0. 0. 0. 0.]\n",
            " [0. 0. 0. 0. 0. 0. 0. 0. 0. 0.]], shape=(10, 10), dtype=float32)\n",
            "[<tf.Variable 'my_dense_layer/kernel:0' shape=(5, 10) dtype=float32, numpy=\n",
            "array([[ 0.58877844, -0.41728726,  0.18344814, -0.15834278,  0.47385627,\n",
            "         0.38863915, -0.25918347,  0.15062356,  0.01844513, -0.06694192],\n",
            "       [-0.13998029, -0.00076193, -0.28684634, -0.5995408 ,  0.4302761 ,\n",
            "         0.25580084, -0.2599543 , -0.17705995,  0.17070252, -0.28980288],\n",
            "       [ 0.40549392, -0.47508985, -0.3729284 ,  0.6218234 ,  0.40797764,\n",
            "        -0.40276188,  0.3130535 , -0.23881277, -0.5844728 , -0.60917443],\n",
            "       [-0.47313187,  0.558742  , -0.12160391, -0.39746588,  0.01602918,\n",
            "        -0.5320636 ,  0.56211084, -0.5796943 , -0.21514386, -0.6089377 ],\n",
            "       [ 0.27160114, -0.10234481,  0.34304243,  0.2148444 ,  0.28411192,\n",
            "        -0.27424037,  0.44253618,  0.11790311,  0.27484882,  0.57769626]],\n",
            "      dtype=float32)>]\n"
          ],
          "name": "stdout"
        }
      ]
    },
    {
      "metadata": {
        "id": "z_KI8POatpjc",
        "colab_type": "code",
        "colab": {
          "base_uri": "https://localhost:8080/",
          "height": 190
        },
        "outputId": "e0ce7158-6836-490e-e3d9-67827f5ff656"
      },
      "cell_type": "code",
      "source": [
        "class ResnetIdentityBlock(tf.keras.Model):\n",
        "  def __init__(self, kernel_size, filters):\n",
        "    super(ResnetIdentityBlock, self).__init__(name='')\n",
        "    filters1, filters2, filters3 = filters\n",
        "    \n",
        "    self.conv2a = tf.keras.layers.Conv2D(filters1, (1,1))\n",
        "    self.bn2a = tf.keras.layers.BatchNormalization()\n",
        "    \n",
        "    self.conv2b = tf.keras.layers.Conv2D(filters2, kernel_size, padding='same')\n",
        "    self.bn2b = tf.keras.layers.BatchNormalization()\n",
        "    \n",
        "    self.conv2c = tf.keras.layers.Conv2D(filters3, (1,1))\n",
        "    self.bn2c = tf.keras.layers.BatchNormalization()\n",
        "    \n",
        "  def call(self, input_tensor, training=False):\n",
        "    x = self.conv2a(input_tensor)\n",
        "    x = self.bn2a(x, training=training)\n",
        "    x = tf.nn.relu(x)\n",
        "    \n",
        "    x = self.conv2b(x)\n",
        "    x = self.bn2b(x, training=training)\n",
        "    x = tf.nn.relu(x)\n",
        "    \n",
        "    x = self.conv2c(x)\n",
        "    x = self.bn2c(x, training=training)\n",
        "    \n",
        "    x += input_tensor\n",
        "    return tf.nn.relu(x)\n",
        " \n",
        "\n",
        "block = ResnetIdentityBlock(1, [1, 2, 3])\n",
        "print(block(tf.zeros([1, 2, 3, 3])))\n",
        "print([x.name for x in block.variables])"
      ],
      "execution_count": 9,
      "outputs": [
        {
          "output_type": "stream",
          "text": [
            "tf.Tensor(\n",
            "[[[[0. 0. 0.]\n",
            "   [0. 0. 0.]\n",
            "   [0. 0. 0.]]\n",
            "\n",
            "  [[0. 0. 0.]\n",
            "   [0. 0. 0.]\n",
            "   [0. 0. 0.]]]], shape=(1, 2, 3, 3), dtype=float32)\n",
            "['resnet_identity_block_3/conv2d_3/kernel:0', 'resnet_identity_block_3/conv2d_3/bias:0', 'resnet_identity_block_3/batch_normalization_3/gamma:0', 'resnet_identity_block_3/batch_normalization_3/beta:0', 'resnet_identity_block_3/conv2d_4/kernel:0', 'resnet_identity_block_3/conv2d_4/bias:0', 'resnet_identity_block_3/batch_normalization_4/gamma:0', 'resnet_identity_block_3/batch_normalization_4/beta:0', 'resnet_identity_block_3/conv2d_5/kernel:0', 'resnet_identity_block_3/conv2d_5/bias:0', 'resnet_identity_block_3/batch_normalization_5/gamma:0', 'resnet_identity_block_3/batch_normalization_5/beta:0', 'resnet_identity_block_3/batch_normalization_3/moving_mean:0', 'resnet_identity_block_3/batch_normalization_3/moving_variance:0', 'resnet_identity_block_3/batch_normalization_4/moving_mean:0', 'resnet_identity_block_3/batch_normalization_4/moving_variance:0', 'resnet_identity_block_3/batch_normalization_5/moving_mean:0', 'resnet_identity_block_3/batch_normalization_5/moving_variance:0']\n"
          ],
          "name": "stdout"
        }
      ]
    },
    {
      "metadata": {
        "id": "1UazXI8HxEZd",
        "colab_type": "code",
        "colab": {
          "base_uri": "https://localhost:8080/",
          "height": 153
        },
        "outputId": "b4c60c86-12ef-43f9-8ca0-287e06340f93"
      },
      "cell_type": "code",
      "source": [
        "my_seq = tf.keras.Sequential([tf.keras.layers.Conv2D(1, (1, 1)),\n",
        "                              tf.keras.layers.BatchNormalization(),\n",
        "                              tf.keras.layers.Conv2D(2, 1, \n",
        "                                                     padding='same'),\n",
        "                              tf.keras.layers.BatchNormalization(),\n",
        "                              tf.keras.layers.Conv2D(3, (1, 1)),\n",
        "                              tf.keras.layers.BatchNormalization()])\n",
        "my_seq(tf.zeros([1, 2, 3, 3]))"
      ],
      "execution_count": 10,
      "outputs": [
        {
          "output_type": "execute_result",
          "data": {
            "text/plain": [
              "<tf.Tensor: id=691, shape=(1, 2, 3, 3), dtype=float32, numpy=\n",
              "array([[[[0., 0., 0.],\n",
              "         [0., 0., 0.],\n",
              "         [0., 0., 0.]],\n",
              "\n",
              "        [[0., 0., 0.],\n",
              "         [0., 0., 0.],\n",
              "         [0., 0., 0.]]]], dtype=float32)>"
            ]
          },
          "metadata": {
            "tags": []
          },
          "execution_count": 10
        }
      ]
    }
  ]
}
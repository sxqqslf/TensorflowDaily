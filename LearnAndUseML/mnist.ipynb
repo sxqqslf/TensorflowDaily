{
  "nbformat": 4,
  "nbformat_minor": 0,
  "metadata": {
    "colab": {
      "name": "mnist.ipynb",
      "version": "0.3.2",
      "provenance": [],
      "collapsed_sections": [],
      "include_colab_link": true
    },
    "kernelspec": {
      "name": "python3",
      "display_name": "Python 3"
    }
  },
  "cells": [
    {
      "cell_type": "markdown",
      "metadata": {
        "id": "view-in-github",
        "colab_type": "text"
      },
      "source": [
        "[View in Colaboratory](https://colab.research.google.com/github/sxqqslf/TensorflowDaily/blob/master/LearnAndUseML/mnist.ipynb)"
      ]
    },
    {
      "metadata": {
        "id": "OYSQjbwmVZqK",
        "colab_type": "code",
        "colab": {
          "base_uri": "https://localhost:8080/",
          "height": 51
        },
        "outputId": "3d60a6cf-8f37-402e-cef2-a0857d576f6e"
      },
      "cell_type": "code",
      "source": [
        "import tensorflow as tf\n",
        "from tensorflow import keras\n",
        "\n",
        "(train_images, train_labels), (test_images, test_labels) = keras.datasets.mnist.load_data()\n",
        "train_labels = train_labels[:1000]\n",
        "test_labels = test_labels[:1000]\n",
        "\n",
        "train_images = train_images[:1000].reshape(-1, 28*28) / 255.0\n",
        "test_images = test_images[:1000].reshape(-1, 28*28) / 255.0"
      ],
      "execution_count": 1,
      "outputs": [
        {
          "output_type": "stream",
          "text": [
            "Downloading data from https://storage.googleapis.com/tensorflow/tf-keras-datasets/mnist.npz\n",
            "11493376/11490434 [==============================] - 0s 0us/step\n"
          ],
          "name": "stdout"
        }
      ]
    },
    {
      "metadata": {
        "id": "2-ca0uJHWBFZ",
        "colab_type": "code",
        "colab": {
          "base_uri": "https://localhost:8080/",
          "height": 204
        },
        "outputId": "a80bf368-ef89-4b2f-8af8-ef5117d596a2"
      },
      "cell_type": "code",
      "source": [
        "def create_model():\n",
        "  model = keras.models.Sequential([\n",
        "      keras.layers.Dense(512, activation=tf.nn.relu, input_shape=(784,)),\n",
        "      keras.layers.Dropout(0.2),\n",
        "      keras.layers.Dense(10, activation=tf.nn.softmax)\n",
        "  ])\n",
        "  \n",
        "  model.compile(optimizer=keras.optimizers.Adam(),\n",
        "               loss=keras.losses.sparse_categorical_crossentropy,\n",
        "               metrics=['accuracy'])\n",
        "  return model\n",
        "\n",
        "model = create_model()\n",
        "model.fit(train_images, train_labels, epochs=5)"
      ],
      "execution_count": 3,
      "outputs": [
        {
          "output_type": "stream",
          "text": [
            "Epoch 1/5\n",
            "1000/1000 [==============================] - 1s 882us/step - loss: 1.1958 - acc: 0.6340\n",
            "Epoch 2/5\n",
            "1000/1000 [==============================] - 0s 275us/step - loss: 0.4300 - acc: 0.8790\n",
            "Epoch 3/5\n",
            "1000/1000 [==============================] - 0s 272us/step - loss: 0.2937 - acc: 0.9230\n",
            "Epoch 4/5\n",
            "1000/1000 [==============================] - 0s 270us/step - loss: 0.2096 - acc: 0.9490\n",
            "Epoch 5/5\n",
            "1000/1000 [==============================] - 0s 277us/step - loss: 0.1561 - acc: 0.9670\n"
          ],
          "name": "stdout"
        },
        {
          "output_type": "execute_result",
          "data": {
            "text/plain": [
              "<tensorflow.python.keras.callbacks.History at 0x7fb3ee33ff60>"
            ]
          },
          "metadata": {
            "tags": []
          },
          "execution_count": 3
        }
      ]
    },
    {
      "metadata": {
        "id": "oN1Y4G7QWuTh",
        "colab_type": "code",
        "colab": {
          "base_uri": "https://localhost:8080/",
          "height": 51
        },
        "outputId": "b9ae69d6-3e9e-4da8-d913-4f5868b96c76"
      },
      "cell_type": "code",
      "source": [
        "loss, acc = model.evaluate(test_images, test_labels)\n",
        "print(\"Result: {:5.2f}%\".format(100*acc))"
      ],
      "execution_count": 4,
      "outputs": [
        {
          "output_type": "stream",
          "text": [
            "1000/1000 [==============================] - 0s 120us/step\n",
            "Result: 85.60%\n"
          ],
          "name": "stdout"
        }
      ]
    }
  ]
}